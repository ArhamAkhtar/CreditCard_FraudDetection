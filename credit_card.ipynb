{
  "nbformat": 4,
  "nbformat_minor": 0,
  "metadata": {
    "colab": {
      "name": "credit_card.ipynb",
      "provenance": [],
      "authorship_tag": "ABX9TyMWMbDgu8zJj7bn29iKVg4a",
      "include_colab_link": true
    },
    "kernelspec": {
      "name": "python3",
      "display_name": "Python 3"
    }
  },
  "cells": [
    {
      "cell_type": "markdown",
      "metadata": {
        "id": "view-in-github",
        "colab_type": "text"
      },
      "source": [
        "<a href=\"https://colab.research.google.com/github/ArhamAkhtar/CreditCard_FraudDetection/blob/main/credit_card.ipynb\" target=\"_parent\"><img src=\"https://colab.research.google.com/assets/colab-badge.svg\" alt=\"Open In Colab\"/></a>"
      ]
    },
    {
      "cell_type": "code",
      "metadata": {
        "id": "2y0LDZ7-BWNf"
      },
      "source": [
        "#importing the dependencies\n",
        "import pandas as pd\n",
        "import numpy as np\n",
        "from matplotlib import pyplot as pyplot\n",
        "import io"
      ],
      "execution_count": null,
      "outputs": []
    },
    {
      "cell_type": "code",
      "metadata": {
        "id": "ucBOtXzcB4-M",
        "colab": {
          "base_uri": "https://localhost:8080/"
        },
        "outputId": "45fb47cd-2b3f-4fed-898c-0b386a0579bd"
      },
      "source": [
        "ls"
      ],
      "execution_count": null,
      "outputs": [
        {
          "output_type": "stream",
          "text": [
            "\u001b[0m\u001b[01;32manscombe.json\u001b[0m*                mnist_test.csv\n",
            "california_housing_test.csv   mnist_train_small.csv\n",
            "california_housing_train.csv  \u001b[01;32mREADME.md\u001b[0m*\n"
          ],
          "name": "stdout"
        }
      ]
    },
    {
      "cell_type": "code",
      "metadata": {
        "id": "MuDFwtZVOwkz",
        "colab": {
          "base_uri": "https://localhost:8080/"
        },
        "outputId": "cb5c1748-0ca8-412a-9076-f675f11385be"
      },
      "source": [
        "cd sample_data/"
      ],
      "execution_count": null,
      "outputs": [
        {
          "output_type": "stream",
          "text": [
            "[Errno 2] No such file or directory: 'sample_data/'\n",
            "/content/sample_data\n"
          ],
          "name": "stdout"
        }
      ]
    },
    {
      "cell_type": "code",
      "metadata": {
        "id": "MbmWocSUO3wF",
        "colab": {
          "base_uri": "https://localhost:8080/"
        },
        "outputId": "67c516da-621d-41a4-9b27-4e7cda560719"
      },
      "source": [
        "ls"
      ],
      "execution_count": null,
      "outputs": [
        {
          "output_type": "stream",
          "text": [
            "\u001b[0m\u001b[01;32manscombe.json\u001b[0m*                mnist_test.csv\n",
            "california_housing_test.csv   mnist_train_small.csv\n",
            "california_housing_train.csv  \u001b[01;32mREADME.md\u001b[0m*\n"
          ],
          "name": "stdout"
        }
      ]
    },
    {
      "cell_type": "code",
      "metadata": {
        "id": "77Pxw12cO5o7"
      },
      "source": [
        "data=pd.read_csv(\"/content/creditcard.csv\",error_bad_lines=False,sep=',',engine='python',header=None)\n"
      ],
      "execution_count": null,
      "outputs": []
    },
    {
      "cell_type": "code",
      "metadata": {
        "id": "-c-mdTZHuRj6",
        "colab": {
          "base_uri": "https://localhost:8080/",
          "height": 317
        },
        "outputId": "660ec0df-4dae-4fb5-835f-5aec28be64e2"
      },
      "source": [
        "data.describe()"
      ],
      "execution_count": null,
      "outputs": [
        {
          "output_type": "execute_result",
          "data": {
            "text/html": [
              "<div>\n",
              "<style scoped>\n",
              "    .dataframe tbody tr th:only-of-type {\n",
              "        vertical-align: middle;\n",
              "    }\n",
              "\n",
              "    .dataframe tbody tr th {\n",
              "        vertical-align: top;\n",
              "    }\n",
              "\n",
              "    .dataframe thead th {\n",
              "        text-align: right;\n",
              "    }\n",
              "</style>\n",
              "<table border=\"1\" class=\"dataframe\">\n",
              "  <thead>\n",
              "    <tr style=\"text-align: right;\">\n",
              "      <th></th>\n",
              "      <th>Time</th>\n",
              "      <th>V1</th>\n",
              "      <th>V2</th>\n",
              "      <th>V3</th>\n",
              "      <th>V4</th>\n",
              "      <th>V5</th>\n",
              "      <th>V6</th>\n",
              "      <th>V7</th>\n",
              "      <th>V8</th>\n",
              "      <th>V9</th>\n",
              "      <th>V10</th>\n",
              "      <th>V11</th>\n",
              "      <th>V12</th>\n",
              "      <th>V13</th>\n",
              "      <th>V14</th>\n",
              "      <th>V15</th>\n",
              "      <th>V16</th>\n",
              "      <th>V17</th>\n",
              "      <th>V18</th>\n",
              "      <th>V19</th>\n",
              "      <th>V20</th>\n",
              "      <th>V21</th>\n",
              "      <th>V22</th>\n",
              "      <th>V23</th>\n",
              "      <th>V24</th>\n",
              "      <th>V25</th>\n",
              "      <th>V26</th>\n",
              "      <th>V27</th>\n",
              "      <th>V28</th>\n",
              "      <th>Amount</th>\n",
              "      <th>Class</th>\n",
              "    </tr>\n",
              "  </thead>\n",
              "  <tbody>\n",
              "    <tr>\n",
              "      <th>count</th>\n",
              "      <td>257457.000000</td>\n",
              "      <td>257457.000000</td>\n",
              "      <td>257457.000000</td>\n",
              "      <td>257457.000000</td>\n",
              "      <td>257457.000000</td>\n",
              "      <td>257457.000000</td>\n",
              "      <td>257457.000000</td>\n",
              "      <td>257457.000000</td>\n",
              "      <td>257457.000000</td>\n",
              "      <td>257457.000000</td>\n",
              "      <td>257457.000000</td>\n",
              "      <td>257457.000000</td>\n",
              "      <td>257457.000000</td>\n",
              "      <td>257457.000000</td>\n",
              "      <td>257457.000000</td>\n",
              "      <td>257457.000000</td>\n",
              "      <td>257457.000000</td>\n",
              "      <td>257457.000000</td>\n",
              "      <td>257457.000000</td>\n",
              "      <td>257457.000000</td>\n",
              "      <td>257457.000000</td>\n",
              "      <td>257457.000000</td>\n",
              "      <td>257457.000000</td>\n",
              "      <td>257457.000000</td>\n",
              "      <td>257456.000000</td>\n",
              "      <td>257456.000000</td>\n",
              "      <td>257456.000000</td>\n",
              "      <td>257456.000000</td>\n",
              "      <td>257456.000000</td>\n",
              "      <td>257456.000000</td>\n",
              "      <td>257456.000000</td>\n",
              "    </tr>\n",
              "    <tr>\n",
              "      <th>mean</th>\n",
              "      <td>87384.361404</td>\n",
              "      <td>-0.025913</td>\n",
              "      <td>-0.017699</td>\n",
              "      <td>0.077013</td>\n",
              "      <td>0.018342</td>\n",
              "      <td>-0.030130</td>\n",
              "      <td>0.014143</td>\n",
              "      <td>-0.012766</td>\n",
              "      <td>0.001525</td>\n",
              "      <td>0.000412</td>\n",
              "      <td>0.000495</td>\n",
              "      <td>0.030962</td>\n",
              "      <td>-0.023570</td>\n",
              "      <td>0.003207</td>\n",
              "      <td>0.012587</td>\n",
              "      <td>0.018874</td>\n",
              "      <td>-0.001921</td>\n",
              "      <td>0.007823</td>\n",
              "      <td>-0.011737</td>\n",
              "      <td>-0.002564</td>\n",
              "      <td>0.003627</td>\n",
              "      <td>-0.001042</td>\n",
              "      <td>-0.007938</td>\n",
              "      <td>-0.004565</td>\n",
              "      <td>0.001145</td>\n",
              "      <td>0.016056</td>\n",
              "      <td>0.001144</td>\n",
              "      <td>-0.000634</td>\n",
              "      <td>0.000673</td>\n",
              "      <td>90.310332</td>\n",
              "      <td>0.001826</td>\n",
              "    </tr>\n",
              "    <tr>\n",
              "      <th>std</th>\n",
              "      <td>43797.031127</td>\n",
              "      <td>1.958384</td>\n",
              "      <td>1.663655</td>\n",
              "      <td>1.508987</td>\n",
              "      <td>1.415882</td>\n",
              "      <td>1.372251</td>\n",
              "      <td>1.325597</td>\n",
              "      <td>1.224968</td>\n",
              "      <td>1.194623</td>\n",
              "      <td>1.109452</td>\n",
              "      <td>1.088353</td>\n",
              "      <td>1.027675</td>\n",
              "      <td>1.024865</td>\n",
              "      <td>1.007657</td>\n",
              "      <td>0.964713</td>\n",
              "      <td>0.924978</td>\n",
              "      <td>0.881752</td>\n",
              "      <td>0.859804</td>\n",
              "      <td>0.841779</td>\n",
              "      <td>0.817177</td>\n",
              "      <td>0.778361</td>\n",
              "      <td>0.737726</td>\n",
              "      <td>0.718716</td>\n",
              "      <td>0.632706</td>\n",
              "      <td>0.605703</td>\n",
              "      <td>0.516480</td>\n",
              "      <td>0.484610</td>\n",
              "      <td>0.401242</td>\n",
              "      <td>0.330214</td>\n",
              "      <td>250.352826</td>\n",
              "      <td>0.042688</td>\n",
              "    </tr>\n",
              "    <tr>\n",
              "      <th>min</th>\n",
              "      <td>0.000000</td>\n",
              "      <td>-56.407510</td>\n",
              "      <td>-72.715728</td>\n",
              "      <td>-33.680984</td>\n",
              "      <td>-5.683171</td>\n",
              "      <td>-42.147898</td>\n",
              "      <td>-26.160506</td>\n",
              "      <td>-43.557242</td>\n",
              "      <td>-73.216718</td>\n",
              "      <td>-13.434066</td>\n",
              "      <td>-24.588262</td>\n",
              "      <td>-4.797473</td>\n",
              "      <td>-18.683715</td>\n",
              "      <td>-5.791881</td>\n",
              "      <td>-19.214325</td>\n",
              "      <td>-4.498945</td>\n",
              "      <td>-14.129855</td>\n",
              "      <td>-25.162799</td>\n",
              "      <td>-9.498746</td>\n",
              "      <td>-7.213527</td>\n",
              "      <td>-28.009635</td>\n",
              "      <td>-34.830382</td>\n",
              "      <td>-10.933144</td>\n",
              "      <td>-44.807735</td>\n",
              "      <td>-2.836627</td>\n",
              "      <td>-10.295397</td>\n",
              "      <td>-2.604551</td>\n",
              "      <td>-22.565679</td>\n",
              "      <td>-11.710896</td>\n",
              "      <td>0.000000</td>\n",
              "      <td>0.000000</td>\n",
              "    </tr>\n",
              "    <tr>\n",
              "      <th>25%</th>\n",
              "      <td>51121.000000</td>\n",
              "      <td>-0.930932</td>\n",
              "      <td>-0.609169</td>\n",
              "      <td>-0.759697</td>\n",
              "      <td>-0.841283</td>\n",
              "      <td>-0.720695</td>\n",
              "      <td>-0.752965</td>\n",
              "      <td>-0.563024</td>\n",
              "      <td>-0.203194</td>\n",
              "      <td>-0.653467</td>\n",
              "      <td>-0.527628</td>\n",
              "      <td>-0.730414</td>\n",
              "      <td>-0.431144</td>\n",
              "      <td>-0.655156</td>\n",
              "      <td>-0.409183</td>\n",
              "      <td>-0.569073</td>\n",
              "      <td>-0.473477</td>\n",
              "      <td>-0.470237</td>\n",
              "      <td>-0.508185</td>\n",
              "      <td>-0.466470</td>\n",
              "      <td>-0.208527</td>\n",
              "      <td>-0.225651</td>\n",
              "      <td>-0.535619</td>\n",
              "      <td>-0.164172</td>\n",
              "      <td>-0.350902</td>\n",
              "      <td>-0.297973</td>\n",
              "      <td>-0.329354</td>\n",
              "      <td>-0.070696</td>\n",
              "      <td>-0.051155</td>\n",
              "      <td>5.990000</td>\n",
              "      <td>0.000000</td>\n",
              "    </tr>\n",
              "    <tr>\n",
              "      <th>50%</th>\n",
              "      <td>78814.000000</td>\n",
              "      <td>0.006266</td>\n",
              "      <td>0.059821</td>\n",
              "      <td>0.272167</td>\n",
              "      <td>0.006723</td>\n",
              "      <td>-0.087094</td>\n",
              "      <td>-0.255660</td>\n",
              "      <td>0.024675</td>\n",
              "      <td>0.027344</td>\n",
              "      <td>-0.056592</td>\n",
              "      <td>-0.090631</td>\n",
              "      <td>-0.008482</td>\n",
              "      <td>0.125795</td>\n",
              "      <td>-0.012849</td>\n",
              "      <td>0.057107</td>\n",
              "      <td>0.077932</td>\n",
              "      <td>0.063476</td>\n",
              "      <td>-0.055094</td>\n",
              "      <td>-0.015127</td>\n",
              "      <td>-0.000409</td>\n",
              "      <td>-0.057853</td>\n",
              "      <td>-0.030374</td>\n",
              "      <td>0.001484</td>\n",
              "      <td>-0.016507</td>\n",
              "      <td>0.044334</td>\n",
              "      <td>0.043837</td>\n",
              "      <td>-0.057940</td>\n",
              "      <td>0.001936</td>\n",
              "      <td>0.013289</td>\n",
              "      <td>22.950000</td>\n",
              "      <td>0.000000</td>\n",
              "    </tr>\n",
              "    <tr>\n",
              "      <th>75%</th>\n",
              "      <td>129987.000000</td>\n",
              "      <td>1.276913</td>\n",
              "      <td>0.783677</td>\n",
              "      <td>1.084847</td>\n",
              "      <td>0.782975</td>\n",
              "      <td>0.576097</td>\n",
              "      <td>0.416600</td>\n",
              "      <td>0.552151</td>\n",
              "      <td>0.329577</td>\n",
              "      <td>0.605950</td>\n",
              "      <td>0.458722</td>\n",
              "      <td>0.778202</td>\n",
              "      <td>0.612332</td>\n",
              "      <td>0.669867</td>\n",
              "      <td>0.499670</td>\n",
              "      <td>0.681673</td>\n",
              "      <td>0.527430</td>\n",
              "      <td>0.405563</td>\n",
              "      <td>0.489712</td>\n",
              "      <td>0.464485</td>\n",
              "      <td>0.138499</td>\n",
              "      <td>0.179478</td>\n",
              "      <td>0.505977</td>\n",
              "      <td>0.138841</td>\n",
              "      <td>0.434168</td>\n",
              "      <td>0.361674</td>\n",
              "      <td>0.246427</td>\n",
              "      <td>0.089254</td>\n",
              "      <td>0.077737</td>\n",
              "      <td>79.200000</td>\n",
              "      <td>0.000000</td>\n",
              "    </tr>\n",
              "    <tr>\n",
              "      <th>max</th>\n",
              "      <td>158176.000000</td>\n",
              "      <td>2.454930</td>\n",
              "      <td>22.057729</td>\n",
              "      <td>9.382558</td>\n",
              "      <td>16.875344</td>\n",
              "      <td>34.801666</td>\n",
              "      <td>22.529298</td>\n",
              "      <td>36.877368</td>\n",
              "      <td>20.007208</td>\n",
              "      <td>15.594995</td>\n",
              "      <td>23.745136</td>\n",
              "      <td>12.018913</td>\n",
              "      <td>7.848392</td>\n",
              "      <td>4.569009</td>\n",
              "      <td>10.526766</td>\n",
              "      <td>5.825654</td>\n",
              "      <td>8.289890</td>\n",
              "      <td>9.253526</td>\n",
              "      <td>5.041069</td>\n",
              "      <td>5.591971</td>\n",
              "      <td>39.420904</td>\n",
              "      <td>27.202839</td>\n",
              "      <td>10.503090</td>\n",
              "      <td>22.528412</td>\n",
              "      <td>4.022866</td>\n",
              "      <td>7.519589</td>\n",
              "      <td>3.517346</td>\n",
              "      <td>12.152401</td>\n",
              "      <td>33.847808</td>\n",
              "      <td>19656.530000</td>\n",
              "      <td>1.000000</td>\n",
              "    </tr>\n",
              "  </tbody>\n",
              "</table>\n",
              "</div>"
            ],
            "text/plain": [
              "                Time             V1  ...         Amount          Class\n",
              "count  257457.000000  257457.000000  ...  257456.000000  257456.000000\n",
              "mean    87384.361404      -0.025913  ...      90.310332       0.001826\n",
              "std     43797.031127       1.958384  ...     250.352826       0.042688\n",
              "min         0.000000     -56.407510  ...       0.000000       0.000000\n",
              "25%     51121.000000      -0.930932  ...       5.990000       0.000000\n",
              "50%     78814.000000       0.006266  ...      22.950000       0.000000\n",
              "75%    129987.000000       1.276913  ...      79.200000       0.000000\n",
              "max    158176.000000       2.454930  ...   19656.530000       1.000000\n",
              "\n",
              "[8 rows x 31 columns]"
            ]
          },
          "metadata": {
            "tags": []
          },
          "execution_count": 20
        }
      ]
    },
    {
      "cell_type": "code",
      "metadata": {
        "id": "xYNy-PwxuZ2k",
        "colab": {
          "base_uri": "https://localhost:8080/"
        },
        "outputId": "b6bee87f-8a46-4b54-febb-3e23f1388ab5"
      },
      "source": [
        "data.info()"
      ],
      "execution_count": null,
      "outputs": [
        {
          "output_type": "stream",
          "text": [
            "<class 'pandas.core.frame.DataFrame'>\n",
            "RangeIndex: 257458 entries, 0 to 257457\n",
            "Data columns (total 31 columns):\n",
            " #   Column  Non-Null Count   Dtype \n",
            "---  ------  --------------   ----- \n",
            " 0   0       257458 non-null  object\n",
            " 1   1       257458 non-null  object\n",
            " 2   2       257458 non-null  object\n",
            " 3   3       257458 non-null  object\n",
            " 4   4       257458 non-null  object\n",
            " 5   5       257458 non-null  object\n",
            " 6   6       257458 non-null  object\n",
            " 7   7       257458 non-null  object\n",
            " 8   8       257458 non-null  object\n",
            " 9   9       257458 non-null  object\n",
            " 10  10      257458 non-null  object\n",
            " 11  11      257458 non-null  object\n",
            " 12  12      257458 non-null  object\n",
            " 13  13      257458 non-null  object\n",
            " 14  14      257458 non-null  object\n",
            " 15  15      257458 non-null  object\n",
            " 16  16      257458 non-null  object\n",
            " 17  17      257458 non-null  object\n",
            " 18  18      257458 non-null  object\n",
            " 19  19      257458 non-null  object\n",
            " 20  20      257458 non-null  object\n",
            " 21  21      257458 non-null  object\n",
            " 22  22      257458 non-null  object\n",
            " 23  23      257458 non-null  object\n",
            " 24  24      257457 non-null  object\n",
            " 25  25      257457 non-null  object\n",
            " 26  26      257457 non-null  object\n",
            " 27  27      257457 non-null  object\n",
            " 28  28      257457 non-null  object\n",
            " 29  29      257457 non-null  object\n",
            " 30  30      257457 non-null  object\n",
            "dtypes: object(31)\n",
            "memory usage: 60.9+ MB\n"
          ],
          "name": "stdout"
        }
      ]
    },
    {
      "cell_type": "code",
      "metadata": {
        "id": "NwrUddBrudk9",
        "colab": {
          "base_uri": "https://localhost:8080/"
        },
        "outputId": "fcdfc17d-cc2d-43bd-b9e5-439fccfb01c2"
      },
      "source": [
        "data[30].unique()"
      ],
      "execution_count": null,
      "outputs": [
        {
          "output_type": "execute_result",
          "data": {
            "text/plain": [
              "array(['Class', '0', '1', None], dtype=object)"
            ]
          },
          "metadata": {
            "tags": []
          },
          "execution_count": 32
        }
      ]
    },
    {
      "cell_type": "code",
      "metadata": {
        "id": "obaGql5IuiLE"
      },
      "source": [
        "features=data.iloc[0,:]"
      ],
      "execution_count": null,
      "outputs": []
    },
    {
      "cell_type": "code",
      "metadata": {
        "id": "4wQFZwFXu3Fs",
        "colab": {
          "base_uri": "https://localhost:8080/"
        },
        "outputId": "6c9ffe7d-74aa-42f4-972f-a58461e42348"
      },
      "source": [
        "features"
      ],
      "execution_count": null,
      "outputs": [
        {
          "output_type": "execute_result",
          "data": {
            "text/plain": [
              "0       Time\n",
              "1         V1\n",
              "2         V2\n",
              "3         V3\n",
              "4         V4\n",
              "5         V5\n",
              "6         V6\n",
              "7         V7\n",
              "8         V8\n",
              "9         V9\n",
              "10       V10\n",
              "11       V11\n",
              "12       V12\n",
              "13       V13\n",
              "14       V14\n",
              "15       V15\n",
              "16       V16\n",
              "17       V17\n",
              "18       V18\n",
              "19       V19\n",
              "20       V20\n",
              "21       V21\n",
              "22       V22\n",
              "23       V23\n",
              "24       V24\n",
              "25       V25\n",
              "26       V26\n",
              "27       V27\n",
              "28       V28\n",
              "29    Amount\n",
              "30     Class\n",
              "Name: 0, dtype: object"
            ]
          },
          "metadata": {
            "tags": []
          },
          "execution_count": 34
        }
      ]
    },
    {
      "cell_type": "code",
      "metadata": {
        "id": "pS5EHGFau572",
        "colab": {
          "base_uri": "https://localhost:8080/",
          "height": 224
        },
        "outputId": "d5559658-6970-4235-e678-8b864c353ce0"
      },
      "source": [
        "data=data.iloc[1:,:]\n",
        "data.head()"
      ],
      "execution_count": null,
      "outputs": [
        {
          "output_type": "execute_result",
          "data": {
            "text/html": [
              "<div>\n",
              "<style scoped>\n",
              "    .dataframe tbody tr th:only-of-type {\n",
              "        vertical-align: middle;\n",
              "    }\n",
              "\n",
              "    .dataframe tbody tr th {\n",
              "        vertical-align: top;\n",
              "    }\n",
              "\n",
              "    .dataframe thead th {\n",
              "        text-align: right;\n",
              "    }\n",
              "</style>\n",
              "<table border=\"1\" class=\"dataframe\">\n",
              "  <thead>\n",
              "    <tr style=\"text-align: right;\">\n",
              "      <th></th>\n",
              "      <th>0</th>\n",
              "      <th>1</th>\n",
              "      <th>2</th>\n",
              "      <th>3</th>\n",
              "      <th>4</th>\n",
              "      <th>5</th>\n",
              "      <th>6</th>\n",
              "      <th>7</th>\n",
              "      <th>8</th>\n",
              "      <th>9</th>\n",
              "      <th>10</th>\n",
              "      <th>11</th>\n",
              "      <th>12</th>\n",
              "      <th>13</th>\n",
              "      <th>14</th>\n",
              "      <th>15</th>\n",
              "      <th>16</th>\n",
              "      <th>17</th>\n",
              "      <th>18</th>\n",
              "      <th>19</th>\n",
              "      <th>20</th>\n",
              "      <th>21</th>\n",
              "      <th>22</th>\n",
              "      <th>23</th>\n",
              "      <th>24</th>\n",
              "      <th>25</th>\n",
              "      <th>26</th>\n",
              "      <th>27</th>\n",
              "      <th>28</th>\n",
              "      <th>29</th>\n",
              "      <th>30</th>\n",
              "    </tr>\n",
              "  </thead>\n",
              "  <tbody>\n",
              "    <tr>\n",
              "      <th>1</th>\n",
              "      <td>0</td>\n",
              "      <td>-1.3598071336738</td>\n",
              "      <td>-0.0727811733098497</td>\n",
              "      <td>2.53634673796914</td>\n",
              "      <td>1.37815522427443</td>\n",
              "      <td>-0.338320769942518</td>\n",
              "      <td>0.462387777762292</td>\n",
              "      <td>0.239598554061257</td>\n",
              "      <td>0.0986979012610507</td>\n",
              "      <td>0.363786969611213</td>\n",
              "      <td>0.0907941719789316</td>\n",
              "      <td>-0.551599533260813</td>\n",
              "      <td>-0.617800855762348</td>\n",
              "      <td>-0.991389847235408</td>\n",
              "      <td>-0.311169353699879</td>\n",
              "      <td>1.46817697209427</td>\n",
              "      <td>-0.470400525259478</td>\n",
              "      <td>0.207971241929242</td>\n",
              "      <td>0.0257905801985591</td>\n",
              "      <td>0.403992960255733</td>\n",
              "      <td>0.251412098239705</td>\n",
              "      <td>-0.018306777944153</td>\n",
              "      <td>0.277837575558899</td>\n",
              "      <td>-0.110473910188767</td>\n",
              "      <td>0.0669280749146731</td>\n",
              "      <td>0.128539358273528</td>\n",
              "      <td>-0.189114843888824</td>\n",
              "      <td>0.133558376740387</td>\n",
              "      <td>-0.0210530534538215</td>\n",
              "      <td>149.62</td>\n",
              "      <td>0</td>\n",
              "    </tr>\n",
              "    <tr>\n",
              "      <th>2</th>\n",
              "      <td>0</td>\n",
              "      <td>1.19185711131486</td>\n",
              "      <td>0.26615071205963</td>\n",
              "      <td>0.16648011335321</td>\n",
              "      <td>0.448154078460911</td>\n",
              "      <td>0.0600176492822243</td>\n",
              "      <td>-0.0823608088155687</td>\n",
              "      <td>-0.0788029833323113</td>\n",
              "      <td>0.0851016549148104</td>\n",
              "      <td>-0.255425128109186</td>\n",
              "      <td>-0.166974414004614</td>\n",
              "      <td>1.61272666105479</td>\n",
              "      <td>1.06523531137287</td>\n",
              "      <td>0.48909501589608</td>\n",
              "      <td>-0.143772296441519</td>\n",
              "      <td>0.635558093258208</td>\n",
              "      <td>0.463917041022171</td>\n",
              "      <td>-0.114804663102346</td>\n",
              "      <td>-0.183361270123994</td>\n",
              "      <td>-0.145783041325259</td>\n",
              "      <td>-0.0690831352230203</td>\n",
              "      <td>-0.225775248033138</td>\n",
              "      <td>-0.638671952771851</td>\n",
              "      <td>0.101288021253234</td>\n",
              "      <td>-0.339846475529127</td>\n",
              "      <td>0.167170404418143</td>\n",
              "      <td>0.125894532368176</td>\n",
              "      <td>-0.00898309914322813</td>\n",
              "      <td>0.0147241691924927</td>\n",
              "      <td>2.69</td>\n",
              "      <td>0</td>\n",
              "    </tr>\n",
              "    <tr>\n",
              "      <th>3</th>\n",
              "      <td>1</td>\n",
              "      <td>-1.35835406159823</td>\n",
              "      <td>-1.34016307473609</td>\n",
              "      <td>1.77320934263119</td>\n",
              "      <td>0.379779593034328</td>\n",
              "      <td>-0.503198133318193</td>\n",
              "      <td>1.80049938079263</td>\n",
              "      <td>0.791460956450422</td>\n",
              "      <td>0.247675786588991</td>\n",
              "      <td>-1.51465432260583</td>\n",
              "      <td>0.207642865216696</td>\n",
              "      <td>0.624501459424895</td>\n",
              "      <td>0.066083685268831</td>\n",
              "      <td>0.717292731410831</td>\n",
              "      <td>-0.165945922763554</td>\n",
              "      <td>2.34586494901581</td>\n",
              "      <td>-2.89008319444231</td>\n",
              "      <td>1.10996937869599</td>\n",
              "      <td>-0.121359313195888</td>\n",
              "      <td>-2.26185709530414</td>\n",
              "      <td>0.524979725224404</td>\n",
              "      <td>0.247998153469754</td>\n",
              "      <td>0.771679401917229</td>\n",
              "      <td>0.909412262347719</td>\n",
              "      <td>-0.689280956490685</td>\n",
              "      <td>-0.327641833735251</td>\n",
              "      <td>-0.139096571514147</td>\n",
              "      <td>-0.0553527940384261</td>\n",
              "      <td>-0.0597518405929204</td>\n",
              "      <td>378.66</td>\n",
              "      <td>0</td>\n",
              "    </tr>\n",
              "    <tr>\n",
              "      <th>4</th>\n",
              "      <td>1</td>\n",
              "      <td>-0.966271711572087</td>\n",
              "      <td>-0.185226008082898</td>\n",
              "      <td>1.79299333957872</td>\n",
              "      <td>-0.863291275036453</td>\n",
              "      <td>-0.0103088796030823</td>\n",
              "      <td>1.24720316752486</td>\n",
              "      <td>0.23760893977178</td>\n",
              "      <td>0.377435874652262</td>\n",
              "      <td>-1.38702406270197</td>\n",
              "      <td>-0.0549519224713749</td>\n",
              "      <td>-0.226487263835401</td>\n",
              "      <td>0.178228225877303</td>\n",
              "      <td>0.507756869957169</td>\n",
              "      <td>-0.28792374549456</td>\n",
              "      <td>-0.631418117709045</td>\n",
              "      <td>-1.0596472454325</td>\n",
              "      <td>-0.684092786345479</td>\n",
              "      <td>1.96577500349538</td>\n",
              "      <td>-1.2326219700892</td>\n",
              "      <td>-0.208037781160366</td>\n",
              "      <td>-0.108300452035545</td>\n",
              "      <td>0.00527359678253453</td>\n",
              "      <td>-0.190320518742841</td>\n",
              "      <td>-1.17557533186321</td>\n",
              "      <td>0.647376034602038</td>\n",
              "      <td>-0.221928844458407</td>\n",
              "      <td>0.0627228487293033</td>\n",
              "      <td>0.0614576285006353</td>\n",
              "      <td>123.5</td>\n",
              "      <td>0</td>\n",
              "    </tr>\n",
              "    <tr>\n",
              "      <th>5</th>\n",
              "      <td>2</td>\n",
              "      <td>-1.15823309349523</td>\n",
              "      <td>0.877736754848451</td>\n",
              "      <td>1.548717846511</td>\n",
              "      <td>0.403033933955121</td>\n",
              "      <td>-0.407193377311653</td>\n",
              "      <td>0.0959214624684256</td>\n",
              "      <td>0.592940745385545</td>\n",
              "      <td>-0.270532677192282</td>\n",
              "      <td>0.817739308235294</td>\n",
              "      <td>0.753074431976354</td>\n",
              "      <td>-0.822842877946363</td>\n",
              "      <td>0.53819555014995</td>\n",
              "      <td>1.3458515932154</td>\n",
              "      <td>-1.11966983471731</td>\n",
              "      <td>0.175121130008994</td>\n",
              "      <td>-0.451449182813529</td>\n",
              "      <td>-0.237033239362776</td>\n",
              "      <td>-0.0381947870352842</td>\n",
              "      <td>0.803486924960175</td>\n",
              "      <td>0.408542360392758</td>\n",
              "      <td>-0.00943069713232919</td>\n",
              "      <td>0.79827849458971</td>\n",
              "      <td>-0.137458079619063</td>\n",
              "      <td>0.141266983824769</td>\n",
              "      <td>-0.206009587619756</td>\n",
              "      <td>0.502292224181569</td>\n",
              "      <td>0.219422229513348</td>\n",
              "      <td>0.215153147499206</td>\n",
              "      <td>69.99</td>\n",
              "      <td>0</td>\n",
              "    </tr>\n",
              "  </tbody>\n",
              "</table>\n",
              "</div>"
            ],
            "text/plain": [
              "  0                   1                    2   ...                   28      29 30\n",
              "1  0    -1.3598071336738  -0.0727811733098497  ...  -0.0210530534538215  149.62  0\n",
              "2  0    1.19185711131486     0.26615071205963  ...   0.0147241691924927    2.69  0\n",
              "3  1   -1.35835406159823    -1.34016307473609  ...  -0.0597518405929204  378.66  0\n",
              "4  1  -0.966271711572087   -0.185226008082898  ...   0.0614576285006353   123.5  0\n",
              "5  2   -1.15823309349523    0.877736754848451  ...    0.215153147499206   69.99  0\n",
              "\n",
              "[5 rows x 31 columns]"
            ]
          },
          "metadata": {
            "tags": []
          },
          "execution_count": 35
        }
      ]
    },
    {
      "cell_type": "code",
      "metadata": {
        "id": "R_QPnhnf9ud7",
        "colab": {
          "base_uri": "https://localhost:8080/"
        },
        "outputId": "711ef412-02f9-4a92-d524-354d09710e3d"
      },
      "source": [
        "data.isnull().values.any()"
      ],
      "execution_count": null,
      "outputs": [
        {
          "output_type": "execute_result",
          "data": {
            "text/plain": [
              "False"
            ]
          },
          "metadata": {
            "tags": []
          },
          "execution_count": 74
        }
      ]
    },
    {
      "cell_type": "code",
      "metadata": {
        "id": "F5nH_xVTvCae"
      },
      "source": [
        "for i in range(1,30):\n",
        "  data[i]=pd.to_numeric(data[i])"
      ],
      "execution_count": null,
      "outputs": []
    },
    {
      "cell_type": "code",
      "metadata": {
        "id": "nyinol2ovRPv",
        "colab": {
          "base_uri": "https://localhost:8080/"
        },
        "outputId": "13e285fd-da87-429e-d16b-4c8cbe177b7b"
      },
      "source": [
        "data.dtypes"
      ],
      "execution_count": null,
      "outputs": [
        {
          "output_type": "execute_result",
          "data": {
            "text/plain": [
              "0      object\n",
              "1     float64\n",
              "2     float64\n",
              "3     float64\n",
              "4     float64\n",
              "5     float64\n",
              "6     float64\n",
              "7     float64\n",
              "8     float64\n",
              "9     float64\n",
              "10    float64\n",
              "11    float64\n",
              "12    float64\n",
              "13    float64\n",
              "14    float64\n",
              "15    float64\n",
              "16    float64\n",
              "17    float64\n",
              "18    float64\n",
              "19    float64\n",
              "20    float64\n",
              "21    float64\n",
              "22    float64\n",
              "23    float64\n",
              "24    float64\n",
              "25    float64\n",
              "26    float64\n",
              "27    float64\n",
              "28    float64\n",
              "29    float64\n",
              "30     object\n",
              "dtype: object"
            ]
          },
          "metadata": {
            "tags": []
          },
          "execution_count": 37
        }
      ]
    },
    {
      "cell_type": "code",
      "metadata": {
        "id": "87Yb3d9-vVPc",
        "colab": {
          "base_uri": "https://localhost:8080/"
        },
        "outputId": "631af111-dc06-46d1-bb1f-8e2d53bc0aa5"
      },
      "source": [
        "for i in range(30):\n",
        "  print(features[i],end=\" \")\n",
        "  print(data.iloc[:,i].min(),end=\" \")\n",
        "  print(data.iloc[:,i].max())"
      ],
      "execution_count": null,
      "outputs": [
        {
          "output_type": "stream",
          "text": [
            "Time 0 99999\n",
            "V1 -56.407509631329 2.45492999121121\n",
            "V2 -72.7157275629303 22.0577289904909\n",
            "V3 -33.6809840183525 9.38255843282114\n",
            "V4 -5.68317119816995 16.8753440335975\n",
            "V5 -42.1478983728015 34.8016658766686\n",
            "V6 -26.1605059358433 22.5292984665587\n",
            "V7 -43.5572415712451 36.877368268259794\n",
            "V8 -73.21671845526741 20.0072083651213\n",
            "V9 -13.4340663182301 15.5949946071278\n",
            "V10 -24.5882624372475 23.7451361206545\n",
            "V11 -4.79747346479757 12.018913181619899\n",
            "V12 -18.683714633344298 7.8483920756445995\n",
            "V13 -5.7918812063208405 4.56900895856606\n",
            "V14 -19.2143254902614 10.5267660517847\n",
            "V15 -4.49894467676621 5.82565431863365\n",
            "V16 -14.1298545174931 8.289889559546191\n",
            "V17 -25.162799369324798 9.25352625047285\n",
            "V18 -9.498745921046769 5.04106918541184\n",
            "V19 -7.21352743017759 5.59197142733558\n",
            "V20 -28.009635333749 39.4209042482199\n",
            "V21 -34.8303821448146 27.2028391573154\n",
            "V22 -10.933143697655 10.5030900899454\n",
            "V23 -44.807735203791296 22.5284116897749\n",
            "V24 -2.83662691870341 4.02286589044732\n",
            "V25 -10.2953970749851 7.51958867870916\n",
            "V26 -2.60455055280817 3.5173456116237998\n",
            "V27 -22.5656793207827 12.1524011068287\n",
            "V28 -11.710895639451499 33.8478078188831\n",
            "Amount 0.0 19656.53\n"
          ],
          "name": "stdout"
        }
      ]
    },
    {
      "cell_type": "code",
      "metadata": {
        "id": "CpwI7h2_9jnp"
      },
      "source": [
        ""
      ],
      "execution_count": null,
      "outputs": []
    },
    {
      "cell_type": "code",
      "metadata": {
        "id": "kwpULaumybBW"
      },
      "source": [
        "from sklearn.model_selection import train_test_split\n",
        "x_train,x_test,y_train,y_test=train_test_split(data.iloc[:,0:30],data.iloc[:,30:31],random_state=42)"
      ],
      "execution_count": null,
      "outputs": []
    },
    {
      "cell_type": "code",
      "metadata": {
        "id": "1ARZYZvKzBcD",
        "colab": {
          "base_uri": "https://localhost:8080/"
        },
        "outputId": "9b51956e-0a85-43e8-f2a1-914ad9e80cd6"
      },
      "source": [
        "x_train.shape"
      ],
      "execution_count": null,
      "outputs": [
        {
          "output_type": "execute_result",
          "data": {
            "text/plain": [
              "(193092, 30)"
            ]
          },
          "metadata": {
            "tags": []
          },
          "execution_count": 77
        }
      ]
    },
    {
      "cell_type": "code",
      "metadata": {
        "id": "d1scfxh7zFBr",
        "colab": {
          "base_uri": "https://localhost:8080/"
        },
        "outputId": "9585cb45-582c-4606-a518-5d9ce46e84e6"
      },
      "source": [
        "x_test.shape"
      ],
      "execution_count": null,
      "outputs": [
        {
          "output_type": "execute_result",
          "data": {
            "text/plain": [
              "(64364, 30)"
            ]
          },
          "metadata": {
            "tags": []
          },
          "execution_count": 78
        }
      ]
    },
    {
      "cell_type": "code",
      "metadata": {
        "id": "iRm64XSizMwq",
        "colab": {
          "base_uri": "https://localhost:8080/"
        },
        "outputId": "dd71301b-a395-42be-8b47-406cc29e4d5c"
      },
      "source": [
        "y_train.shape"
      ],
      "execution_count": null,
      "outputs": [
        {
          "output_type": "execute_result",
          "data": {
            "text/plain": [
              "(193092, 1)"
            ]
          },
          "metadata": {
            "tags": []
          },
          "execution_count": 79
        }
      ]
    },
    {
      "cell_type": "code",
      "metadata": {
        "id": "VY__sjHuzRuP",
        "colab": {
          "base_uri": "https://localhost:8080/"
        },
        "outputId": "95c30bea-b513-4b06-ba82-c9d8b7522674"
      },
      "source": [
        "y_test.shape"
      ],
      "execution_count": null,
      "outputs": [
        {
          "output_type": "execute_result",
          "data": {
            "text/plain": [
              "(64364, 1)"
            ]
          },
          "metadata": {
            "tags": []
          },
          "execution_count": 80
        }
      ]
    },
    {
      "cell_type": "code",
      "metadata": {
        "id": "rPNJbe4tzWla",
        "colab": {
          "base_uri": "https://localhost:8080/",
          "height": 224
        },
        "outputId": "d961da56-a0d4-4f4f-bfb9-28b5a7fb490c"
      },
      "source": [
        "x_train.head()"
      ],
      "execution_count": null,
      "outputs": [
        {
          "output_type": "execute_result",
          "data": {
            "text/html": [
              "<div>\n",
              "<style scoped>\n",
              "    .dataframe tbody tr th:only-of-type {\n",
              "        vertical-align: middle;\n",
              "    }\n",
              "\n",
              "    .dataframe tbody tr th {\n",
              "        vertical-align: top;\n",
              "    }\n",
              "\n",
              "    .dataframe thead th {\n",
              "        text-align: right;\n",
              "    }\n",
              "</style>\n",
              "<table border=\"1\" class=\"dataframe\">\n",
              "  <thead>\n",
              "    <tr style=\"text-align: right;\">\n",
              "      <th></th>\n",
              "      <th>0</th>\n",
              "      <th>1</th>\n",
              "      <th>2</th>\n",
              "      <th>3</th>\n",
              "      <th>4</th>\n",
              "      <th>5</th>\n",
              "      <th>6</th>\n",
              "      <th>7</th>\n",
              "      <th>8</th>\n",
              "      <th>9</th>\n",
              "      <th>10</th>\n",
              "      <th>11</th>\n",
              "      <th>12</th>\n",
              "      <th>13</th>\n",
              "      <th>14</th>\n",
              "      <th>15</th>\n",
              "      <th>16</th>\n",
              "      <th>17</th>\n",
              "      <th>18</th>\n",
              "      <th>19</th>\n",
              "      <th>20</th>\n",
              "      <th>21</th>\n",
              "      <th>22</th>\n",
              "      <th>23</th>\n",
              "      <th>24</th>\n",
              "      <th>25</th>\n",
              "      <th>26</th>\n",
              "      <th>27</th>\n",
              "      <th>28</th>\n",
              "      <th>29</th>\n",
              "    </tr>\n",
              "  </thead>\n",
              "  <tbody>\n",
              "    <tr>\n",
              "      <th>117629</th>\n",
              "      <td>74745</td>\n",
              "      <td>1.091239</td>\n",
              "      <td>-0.174526</td>\n",
              "      <td>1.003608</td>\n",
              "      <td>1.257442</td>\n",
              "      <td>-0.879607</td>\n",
              "      <td>-0.002144</td>\n",
              "      <td>-0.554973</td>\n",
              "      <td>0.222586</td>\n",
              "      <td>0.678608</td>\n",
              "      <td>0.019884</td>\n",
              "      <td>0.693985</td>\n",
              "      <td>0.569474</td>\n",
              "      <td>-1.120197</td>\n",
              "      <td>0.128373</td>\n",
              "      <td>-0.530481</td>\n",
              "      <td>0.150197</td>\n",
              "      <td>-0.378893</td>\n",
              "      <td>0.624017</td>\n",
              "      <td>0.057101</td>\n",
              "      <td>-0.156742</td>\n",
              "      <td>0.140742</td>\n",
              "      <td>0.516599</td>\n",
              "      <td>-0.156490</td>\n",
              "      <td>0.344933</td>\n",
              "      <td>0.580136</td>\n",
              "      <td>-0.231776</td>\n",
              "      <td>0.045967</td>\n",
              "      <td>0.020932</td>\n",
              "      <td>27.84</td>\n",
              "    </tr>\n",
              "    <tr>\n",
              "      <th>137820</th>\n",
              "      <td>82344</td>\n",
              "      <td>-2.798702</td>\n",
              "      <td>2.229295</td>\n",
              "      <td>-0.282059</td>\n",
              "      <td>0.700450</td>\n",
              "      <td>-1.080245</td>\n",
              "      <td>-0.387855</td>\n",
              "      <td>-0.754016</td>\n",
              "      <td>1.346084</td>\n",
              "      <td>-0.522731</td>\n",
              "      <td>0.341898</td>\n",
              "      <td>0.298587</td>\n",
              "      <td>0.387554</td>\n",
              "      <td>-0.920669</td>\n",
              "      <td>1.428050</td>\n",
              "      <td>0.560554</td>\n",
              "      <td>0.463958</td>\n",
              "      <td>-0.019422</td>\n",
              "      <td>0.895019</td>\n",
              "      <td>0.857764</td>\n",
              "      <td>-0.464059</td>\n",
              "      <td>0.257000</td>\n",
              "      <td>0.110552</td>\n",
              "      <td>0.082449</td>\n",
              "      <td>-0.037099</td>\n",
              "      <td>-0.214906</td>\n",
              "      <td>-0.514135</td>\n",
              "      <td>-1.386130</td>\n",
              "      <td>-0.209190</td>\n",
              "      <td>2.50</td>\n",
              "    </tr>\n",
              "    <tr>\n",
              "      <th>198360</th>\n",
              "      <td>132455</td>\n",
              "      <td>-1.023177</td>\n",
              "      <td>1.018561</td>\n",
              "      <td>1.894058</td>\n",
              "      <td>4.075779</td>\n",
              "      <td>0.753770</td>\n",
              "      <td>3.057478</td>\n",
              "      <td>0.221866</td>\n",
              "      <td>0.561402</td>\n",
              "      <td>-1.802129</td>\n",
              "      <td>1.278326</td>\n",
              "      <td>-0.723628</td>\n",
              "      <td>-0.766085</td>\n",
              "      <td>0.493317</td>\n",
              "      <td>-0.085092</td>\n",
              "      <td>2.199359</td>\n",
              "      <td>-0.439804</td>\n",
              "      <td>0.591624</td>\n",
              "      <td>-0.592033</td>\n",
              "      <td>0.065651</td>\n",
              "      <td>0.055420</td>\n",
              "      <td>0.243302</td>\n",
              "      <td>0.907964</td>\n",
              "      <td>-0.095693</td>\n",
              "      <td>-0.547176</td>\n",
              "      <td>0.034743</td>\n",
              "      <td>0.633957</td>\n",
              "      <td>-0.023756</td>\n",
              "      <td>0.093438</td>\n",
              "      <td>113.49</td>\n",
              "    </tr>\n",
              "    <tr>\n",
              "      <th>131097</th>\n",
              "      <td>79498</td>\n",
              "      <td>1.189336</td>\n",
              "      <td>-0.420636</td>\n",
              "      <td>1.008919</td>\n",
              "      <td>-0.789657</td>\n",
              "      <td>-1.284366</td>\n",
              "      <td>-0.625544</td>\n",
              "      <td>-0.696323</td>\n",
              "      <td>0.121867</td>\n",
              "      <td>1.603845</td>\n",
              "      <td>-0.900395</td>\n",
              "      <td>1.379132</td>\n",
              "      <td>1.299991</td>\n",
              "      <td>-0.531761</td>\n",
              "      <td>0.133744</td>\n",
              "      <td>0.597458</td>\n",
              "      <td>-0.288061</td>\n",
              "      <td>-0.300462</td>\n",
              "      <td>0.662136</td>\n",
              "      <td>0.771324</td>\n",
              "      <td>-0.144994</td>\n",
              "      <td>0.048478</td>\n",
              "      <td>0.333907</td>\n",
              "      <td>-0.018513</td>\n",
              "      <td>0.549446</td>\n",
              "      <td>0.430395</td>\n",
              "      <td>-0.715414</td>\n",
              "      <td>0.087675</td>\n",
              "      <td>0.026385</td>\n",
              "      <td>1.00</td>\n",
              "    </tr>\n",
              "    <tr>\n",
              "      <th>251457</th>\n",
              "      <td>155351</td>\n",
              "      <td>2.113889</td>\n",
              "      <td>-1.237526</td>\n",
              "      <td>-0.772787</td>\n",
              "      <td>-1.108672</td>\n",
              "      <td>-0.874261</td>\n",
              "      <td>0.199756</td>\n",
              "      <td>-1.279969</td>\n",
              "      <td>0.301976</td>\n",
              "      <td>0.232668</td>\n",
              "      <td>0.931558</td>\n",
              "      <td>0.096443</td>\n",
              "      <td>-1.250658</td>\n",
              "      <td>-2.302125</td>\n",
              "      <td>0.221214</td>\n",
              "      <td>-0.071966</td>\n",
              "      <td>1.701154</td>\n",
              "      <td>-0.145100</td>\n",
              "      <td>-0.581435</td>\n",
              "      <td>1.065009</td>\n",
              "      <td>-0.105332</td>\n",
              "      <td>-0.045123</td>\n",
              "      <td>-0.347660</td>\n",
              "      <td>0.363341</td>\n",
              "      <td>0.036878</td>\n",
              "      <td>-0.546435</td>\n",
              "      <td>-0.493517</td>\n",
              "      <td>-0.014087</td>\n",
              "      <td>-0.051158</td>\n",
              "      <td>30.86</td>\n",
              "    </tr>\n",
              "  </tbody>\n",
              "</table>\n",
              "</div>"
            ],
            "text/plain": [
              "            0         1         2   ...        27        28      29\n",
              "117629   74745  1.091239 -0.174526  ...  0.045967  0.020932   27.84\n",
              "137820   82344 -2.798702  2.229295  ... -1.386130 -0.209190    2.50\n",
              "198360  132455 -1.023177  1.018561  ... -0.023756  0.093438  113.49\n",
              "131097   79498  1.189336 -0.420636  ...  0.087675  0.026385    1.00\n",
              "251457  155351  2.113889 -1.237526  ... -0.014087 -0.051158   30.86\n",
              "\n",
              "[5 rows x 30 columns]"
            ]
          },
          "metadata": {
            "tags": []
          },
          "execution_count": 81
        }
      ]
    },
    {
      "cell_type": "code",
      "metadata": {
        "id": "_mLHEruWzbhY",
        "colab": {
          "base_uri": "https://localhost:8080/"
        },
        "outputId": "b112cf1b-a138-48e5-9464-11c8ff7eaf6e"
      },
      "source": [
        "from sklearn.linear_model import LogisticRegression\n",
        "lreg=LogisticRegression()\n",
        "lreg.fit(x_train,y_train)\n",
        "print(\"Training data accuracy:%.3f\"%lreg.score(x_train,y_train))\n",
        "print(\"Testing data accuracy:%.3f\"%lreg.score(x_test,y_test))\n"
      ],
      "execution_count": null,
      "outputs": [
        {
          "output_type": "stream",
          "text": [
            "/usr/local/lib/python3.6/dist-packages/sklearn/utils/validation.py:760: DataConversionWarning: A column-vector y was passed when a 1d array was expected. Please change the shape of y to (n_samples, ), for example using ravel().\n",
            "  y = column_or_1d(y, warn=True)\n",
            "/usr/local/lib/python3.6/dist-packages/sklearn/linear_model/_logistic.py:940: ConvergenceWarning: lbfgs failed to converge (status=1):\n",
            "STOP: TOTAL NO. of ITERATIONS REACHED LIMIT.\n",
            "\n",
            "Increase the number of iterations (max_iter) or scale the data as shown in:\n",
            "    https://scikit-learn.org/stable/modules/preprocessing.html\n",
            "Please also refer to the documentation for alternative solver options:\n",
            "    https://scikit-learn.org/stable/modules/linear_model.html#logistic-regression\n",
            "  extra_warning_msg=_LOGISTIC_SOLVER_CONVERGENCE_MSG)\n"
          ],
          "name": "stderr"
        },
        {
          "output_type": "stream",
          "text": [
            "Training data accuracy:0.999\n",
            "Testing data accuracy:0.999\n"
          ],
          "name": "stdout"
        }
      ]
    },
    {
      "cell_type": "code",
      "metadata": {
        "id": "8WVLVLWl7Mfw",
        "colab": {
          "base_uri": "https://localhost:8080/"
        },
        "outputId": "a751d8e2-7dec-4c22-f7fe-e15eb0ab7fb3"
      },
      "source": [
        "data.shape"
      ],
      "execution_count": null,
      "outputs": [
        {
          "output_type": "execute_result",
          "data": {
            "text/plain": [
              "(257456, 31)"
            ]
          },
          "metadata": {
            "tags": []
          },
          "execution_count": 83
        }
      ]
    },
    {
      "cell_type": "code",
      "metadata": {
        "id": "1Jb0p55b8bEH",
        "colab": {
          "base_uri": "https://localhost:8080/"
        },
        "outputId": "67bf7aad-7d92-4105-8a89-6c6835c7c095"
      },
      "source": [
        "data.isnull().values.any()"
      ],
      "execution_count": null,
      "outputs": [
        {
          "output_type": "execute_result",
          "data": {
            "text/plain": [
              "False"
            ]
          },
          "metadata": {
            "tags": []
          },
          "execution_count": 84
        }
      ]
    },
    {
      "cell_type": "code",
      "metadata": {
        "id": "BWRUnPba8SwI",
        "colab": {
          "base_uri": "https://localhost:8080/"
        },
        "outputId": "de487939-b5f5-404e-9c6e-64fba2da8668"
      },
      "source": [
        "data.isnull().sum().sum()"
      ],
      "execution_count": null,
      "outputs": [
        {
          "output_type": "execute_result",
          "data": {
            "text/plain": [
              "0"
            ]
          },
          "metadata": {
            "tags": []
          },
          "execution_count": 85
        }
      ]
    },
    {
      "cell_type": "markdown",
      "metadata": {
        "id": "-ZnGaMfM0qEt"
      },
      "source": [
        "**We need to scale our data**"
      ]
    },
    {
      "cell_type": "code",
      "metadata": {
        "id": "55S1YXoA0-Mo",
        "colab": {
          "base_uri": "https://localhost:8080/"
        },
        "outputId": "0e3f15b7-7634-445d-b789-d99054be506e"
      },
      "source": [
        "from sklearn.preprocessing import MinMaxScaler\n",
        "scaler=MinMaxScaler()\n",
        "scaler.fit(x_train)"
      ],
      "execution_count": null,
      "outputs": [
        {
          "output_type": "execute_result",
          "data": {
            "text/plain": [
              "MinMaxScaler(copy=True, feature_range=(0, 1))"
            ]
          },
          "metadata": {
            "tags": []
          },
          "execution_count": 86
        }
      ]
    },
    {
      "cell_type": "code",
      "metadata": {
        "id": "PvVF2UNA1TOZ"
      },
      "source": [
        "x_train_scaled=scaler.transform(x_train)\n",
        "x_test_scaled=scaler.transform(x_test)"
      ],
      "execution_count": null,
      "outputs": []
    },
    {
      "cell_type": "code",
      "metadata": {
        "id": "pqSvBXrh1s5Z",
        "colab": {
          "base_uri": "https://localhost:8080/"
        },
        "outputId": "5668124a-580e-4f76-cb8b-07cee5c4faf3"
      },
      "source": [
        "lreg.fit(x_train_scaled,y_train)\n",
        "print(\"Training data accuracy:%.3f\"%lreg.score(x_train_scaled,y_train))\n",
        "print(\"Testing data accuracy:%.3f\"%lreg.score(x_test_scaled,y_test))\n",
        "\n"
      ],
      "execution_count": null,
      "outputs": [
        {
          "output_type": "stream",
          "text": [
            "/usr/local/lib/python3.6/dist-packages/sklearn/utils/validation.py:760: DataConversionWarning: A column-vector y was passed when a 1d array was expected. Please change the shape of y to (n_samples, ), for example using ravel().\n",
            "  y = column_or_1d(y, warn=True)\n"
          ],
          "name": "stderr"
        },
        {
          "output_type": "stream",
          "text": [
            "Training data accuracy:0.999\n",
            "Testing data accuracy:0.999\n"
          ],
          "name": "stdout"
        }
      ]
    },
    {
      "cell_type": "code",
      "metadata": {
        "id": "POxMByCu2PIZ"
      },
      "source": [
        "y_test_predicted=lreg.predict(x_test_scaled)"
      ],
      "execution_count": null,
      "outputs": []
    },
    {
      "cell_type": "code",
      "metadata": {
        "id": "MxKQR-J_2j72",
        "colab": {
          "base_uri": "https://localhost:8080/"
        },
        "outputId": "ddb52947-ae66-453b-d6f5-ef2789cfa44e"
      },
      "source": [
        "from sklearn.metrics import confusion_matrix\n",
        "confusion_matrix(y_test,y_test_predicted)"
      ],
      "execution_count": null,
      "outputs": [
        {
          "output_type": "execute_result",
          "data": {
            "text/plain": [
              "array([[64248,    10],\n",
              "       [   45,    61]])"
            ]
          },
          "metadata": {
            "tags": []
          },
          "execution_count": 90
        }
      ]
    },
    {
      "cell_type": "markdown",
      "metadata": {
        "id": "f8uj6ewL-7uN"
      },
      "source": [
        "**Precision=TP/(TP+FP)**"
      ]
    },
    {
      "cell_type": "code",
      "metadata": {
        "id": "_TAD0-hM-Rqu",
        "colab": {
          "base_uri": "https://localhost:8080/"
        },
        "outputId": "5b98fe14-a712-4cb0-bf0a-2e171cd00e20"
      },
      "source": [
        "64248/(64248+45)"
      ],
      "execution_count": null,
      "outputs": [
        {
          "output_type": "execute_result",
          "data": {
            "text/plain": [
              "0.9993000793243433"
            ]
          },
          "metadata": {
            "tags": []
          },
          "execution_count": 91
        }
      ]
    },
    {
      "cell_type": "markdown",
      "metadata": {
        "id": "O1Y23YqZ-mUW"
      },
      "source": [
        "**Here,precision is 1** "
      ]
    },
    {
      "cell_type": "markdown",
      "metadata": {
        "id": "xn13x-m5_Bwr"
      },
      "source": [
        "**Recall=TP/(TP+FN)**"
      ]
    },
    {
      "cell_type": "code",
      "metadata": {
        "id": "YhJrC7iu_KoZ",
        "colab": {
          "base_uri": "https://localhost:8080/"
        },
        "outputId": "14aceb5c-4fca-4d9d-8fb5-c9697dfe3baa"
      },
      "source": [
        "64248/(64248+10)"
      ],
      "execution_count": null,
      "outputs": [
        {
          "output_type": "execute_result",
          "data": {
            "text/plain": [
              "0.9998443773537925"
            ]
          },
          "metadata": {
            "tags": []
          },
          "execution_count": 92
        }
      ]
    },
    {
      "cell_type": "markdown",
      "metadata": {
        "id": "ovuAxtxo_Sxl"
      },
      "source": [
        "**Recall is also 1. So,we can sy that our model is giving acccurate results**"
      ]
    },
    {
      "cell_type": "markdown",
      "metadata": {
        "id": "D7HRnjU0_k2_"
      },
      "source": [
        "**END**"
      ]
    },
    {
      "cell_type": "markdown",
      "metadata": {
        "id": "nBIa4peR-sk9"
      },
      "source": [
        "****"
      ]
    }
  ]
}